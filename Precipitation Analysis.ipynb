{
    "metadata": {
        "kernelspec": {
            "name": "python310",
            "display_name": "Python 3.10 with Spark",
            "language": "python3"
        },
        "language_info": {
            "name": "python",
            "version": "3.10.14",
            "mimetype": "text/x-python",
            "codemirror_mode": {
                "name": "ipython",
                "version": 3
            },
            "pygments_lexer": "ipython3",
            "nbconvert_exporter": "python",
            "file_extension": ".py"
        }
    },
    "nbformat_minor": 4,
    "nbformat": 4,
    "cells": [
        {
            "cell_type": "markdown",
            "source": "# Descrption\nthis is the practice notebook",
            "metadata": {
                "id": "2a9771d6-2d0e-4748-abd9-133b0880793f"
            }
        },
        {
            "cell_type": "code",
            "source": "",
            "metadata": {
                "id": "be61b6b8-b90b-4fb8-ab1f-dbe5b94cbb4f"
            },
            "outputs": [],
            "execution_count": null
        },
        {
            "cell_type": "code",
            "source": "\nimport ibmos2spark\n\n# @hidden_cell\n# The following code accesses a file in your IBM Cloud Object Storage. It includes your credentials.\n# You might want to remove those credentials before you share the notebook.\n\nmetadata = {\n    'endpoint': 'https://s3.direct.jp-tok.cloud-object-storage.appdomain.cloud',\n    'service_id': 'iam-ServiceId-71a3bbc3-7cad-440b-919c-178a1b6a7640',\n    'iam_service_endpoint': 'https://iam.cloud.ibm.com/identity/token',\n    'api_key': 'ilO7SXmvjHVFvCKzvQ_mX17Adn8I8ncMprsKu1qGLhS0'\n}\n\nconfiguration_name = 'os_8b177a22e5c74608b28eb727877fc9f4_configs'\ncos = ibmos2spark.CloudObjectStorage(sc, metadata, configuration_name, 'bluemix_cos')\nurl = cos.url('climate-normal-1980-2010.csv', 'jupyternotebooks-donotdelete-pr-hieno8zwdx0cw9')\n\nsp_df_1 = spark.read \\\n    .format('org.apache.spark.sql.execution.datasources.csv.CSVFileFormat') \\\n    .option('header', 'true') \\\n    .load(url)\nsp_df_1.show(10)\n",
            "metadata": {
                "msg_id": "5aeced10-a1ac-40c7-92ad-774f6d297ea6"
            },
            "outputs": [
                {
                    "name": "stdout",
                    "text": "+--------------------+------+----------+--------------+---------+-------+-----------------+-----+---------------+---------------+-----------------+--------------+-----------------+-----------+---------+--------+------------------+------+------------+-----+----------------+----+\n|          Indicators|Months|Dadeldhura|Dipayal (Doti)|Dhangadhi|Surkhet|Nepalgunj Airport|Jumla|Ghorai ( Dang )|Pokhara Airport|Bhairhawa Airport|Simara Airport|Kathmandu Airport|Okhaldhunga|Taplejung|Dhankuta|Biratnagar Airport|Jomsom|Dharan Bazar|Lumle|Janakpur Airport|Jiri|\n+--------------------+------+----------+--------------+---------+-------+-----------------+-----+---------------+---------------+-----------------+--------------+-----------------+-----------+---------+--------+------------------+------+------------+-----+----------------+----+\n|           Longitude|   All|      80.6|          80.9|     80.6|   81.6|             81.7| 82.2|           82.5|             84|             83.4|            85|             85.4|       86.5|     87.7|    87.4|              87.3|  83.7|        87.3| 83.8|              86|86.2|\n|            Latitude|   All|      29.3|          29.2|     28.8|   28.6|             28.1| 29.3|           28.1|           28.2|             27.5|          27.2|             27.7|       27.3|     27.4|      27|              26.5|  28.8|        26.8| 28.3|            26.7|27.6|\n|           Elevation|   All|      1848|           720|      187|    720|              165| 2300|            634|            827|              109|           130|             1337|       1720|     1732|    1210|                72|  2744|         444| 1740|              90|2003|\n|Maximum Temperatu...|   Jan|        14|          22.2|     20.8|   19.9|             19.7| 13.9|           20.1|           19.7|               21|          21.6|             19.1|         15|       14|    17.8|              22.7|  10.7|        22.8| 13.6|            22.2|14.3|\n|Maximum Temperatu...|   Feb|      15.2|          24.7|     24.8|   22.5|             24.7|   15|           22.2|           22.2|             25.4|          25.5|             21.4|       16.8|     15.6|    19.2|              26.1|  11.2|          26| 15.2|              26|15.9|\n|Maximum Temperatu...|   Mar|      19.4|          29.7|     30.4|   27.6|             30.3| 18.5|           27.7|           26.7|             31.3|          30.7|             25.3|       21.3|     19.5|    22.8|              30.9|  15.2|        30.6| 19.4|            31.2|19.5|\n|Maximum Temperatu...|   Apr|      23.6|          34.3|     35.9|   32.8|             36.1| 21.7|           32.8|           29.8|             36.1|          34.9|             28.2|       23.8|     22.3|    25.9|              33.9|  18.8|        32.9| 22.8|            34.8|22.2|\n|Maximum Temperatu...|   May|      26.1|          36.1|     37.2|   33.9|               38| 24.1|           33.8|           30.1|             36.4|          34.9|             28.7|       24.6|     23.5|    26.6|              33.3|  21.1|        32.8| 23.2|            34.6|23.3|\n|Maximum Temperatu...|   Jun|        26|          36.3|     36.3|   33.1|             36.6|   26|           32.2|           30.6|             35.5|          34.3|             29.1|       25.4|     24.8|      27|              32.9|  22.9|        32.3| 23.8|            34.1|24.2|\n|Maximum Temperatu...|   Jul|      24.2|          34.2|     33.1|   30.7|             33.4|   25|           29.8|             30|               33|          32.5|             28.4|       24.1|     24.7|    26.8|              32.1|  22.9|        31.8| 23.4|            32.5|23.8|\n+--------------------+------+----------+--------------+---------+-------+-----------------+-----+---------------+---------------+-----------------+--------------+-----------------+-----------+---------+--------+------------------+------+------------+-----+----------------+----+\nonly showing top 10 rows\n\n",
                    "output_type": "stream"
                }
            ],
            "execution_count": 1
        }
    ]
}